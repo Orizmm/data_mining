{
 "cells": [
  {
   "cell_type": "code",
   "execution_count": 16,
   "metadata": {},
   "outputs": [],
   "source": [
    "import numpy as np\n",
    "import matplotlib.pyplot as plt\n",
    "import pandas as pd"
   ]
  },
  {
   "cell_type": "code",
   "execution_count": 17,
   "metadata": {},
   "outputs": [
    {
     "data": {
      "text/html": [
       "<div>\n",
       "<style scoped>\n",
       "    .dataframe tbody tr th:only-of-type {\n",
       "        vertical-align: middle;\n",
       "    }\n",
       "\n",
       "    .dataframe tbody tr th {\n",
       "        vertical-align: top;\n",
       "    }\n",
       "\n",
       "    .dataframe thead th {\n",
       "        text-align: right;\n",
       "    }\n",
       "</style>\n",
       "<table border=\"1\" class=\"dataframe\">\n",
       "  <thead>\n",
       "    <tr style=\"text-align: right;\">\n",
       "      <th></th>\n",
       "      <th>age</th>\n",
       "      <th>gender</th>\n",
       "      <th>chest_pain_type</th>\n",
       "      <th>blood_pressure</th>\n",
       "      <th>cholesterol</th>\n",
       "      <th>max_heart_rate</th>\n",
       "      <th>exercise_angina</th>\n",
       "      <th>plasma_glucose</th>\n",
       "      <th>skin_thickness</th>\n",
       "      <th>insulin</th>\n",
       "      <th>bmi</th>\n",
       "      <th>diabetes_pedigree</th>\n",
       "      <th>hypertension</th>\n",
       "      <th>heart_disease</th>\n",
       "      <th>residence_type</th>\n",
       "      <th>smoking_status</th>\n",
       "    </tr>\n",
       "  </thead>\n",
       "  <tbody>\n",
       "    <tr>\n",
       "      <th>0</th>\n",
       "      <td>24</td>\n",
       "      <td>1.0</td>\n",
       "      <td>4</td>\n",
       "      <td>250</td>\n",
       "      <td>139</td>\n",
       "      <td>212</td>\n",
       "      <td>0</td>\n",
       "      <td>108.0</td>\n",
       "      <td>33.0</td>\n",
       "      <td>109.0</td>\n",
       "      <td>37.999303</td>\n",
       "      <td>0.480277</td>\n",
       "      <td>1</td>\n",
       "      <td>1</td>\n",
       "      <td>Urban</td>\n",
       "      <td>Smoker</td>\n",
       "    </tr>\n",
       "    <tr>\n",
       "      <th>1</th>\n",
       "      <td>29</td>\n",
       "      <td>0.0</td>\n",
       "      <td>4</td>\n",
       "      <td>132</td>\n",
       "      <td>187</td>\n",
       "      <td>147</td>\n",
       "      <td>0</td>\n",
       "      <td>202.0</td>\n",
       "      <td>42.0</td>\n",
       "      <td>NaN</td>\n",
       "      <td>25.588346</td>\n",
       "      <td>0.283986</td>\n",
       "      <td>1</td>\n",
       "      <td>1</td>\n",
       "      <td>Urban</td>\n",
       "      <td>Unknown</td>\n",
       "    </tr>\n",
       "    <tr>\n",
       "      <th>2</th>\n",
       "      <td>46</td>\n",
       "      <td>0.0</td>\n",
       "      <td>3</td>\n",
       "      <td>271</td>\n",
       "      <td>185</td>\n",
       "      <td>193</td>\n",
       "      <td>0</td>\n",
       "      <td>149.0</td>\n",
       "      <td>43.0</td>\n",
       "      <td>102.0</td>\n",
       "      <td>37.892029</td>\n",
       "      <td>2.472309</td>\n",
       "      <td>1</td>\n",
       "      <td>0</td>\n",
       "      <td>Rural</td>\n",
       "      <td>Non-Smoker</td>\n",
       "    </tr>\n",
       "    <tr>\n",
       "      <th>3</th>\n",
       "      <td>73</td>\n",
       "      <td>NaN</td>\n",
       "      <td>2</td>\n",
       "      <td>102</td>\n",
       "      <td>200</td>\n",
       "      <td>125</td>\n",
       "      <td>0</td>\n",
       "      <td>105.0</td>\n",
       "      <td>77.0</td>\n",
       "      <td>165.0</td>\n",
       "      <td>18.660241</td>\n",
       "      <td>1.472052</td>\n",
       "      <td>0</td>\n",
       "      <td>1</td>\n",
       "      <td>Rural</td>\n",
       "      <td>Smoker</td>\n",
       "    </tr>\n",
       "    <tr>\n",
       "      <th>4</th>\n",
       "      <td>49</td>\n",
       "      <td>1.0</td>\n",
       "      <td>3</td>\n",
       "      <td>91</td>\n",
       "      <td>163</td>\n",
       "      <td>192</td>\n",
       "      <td>0</td>\n",
       "      <td>162.0</td>\n",
       "      <td>31.0</td>\n",
       "      <td>170.0</td>\n",
       "      <td>12.767980</td>\n",
       "      <td>0.537627</td>\n",
       "      <td>1</td>\n",
       "      <td>1</td>\n",
       "      <td>Rural</td>\n",
       "      <td>Smoker</td>\n",
       "    </tr>\n",
       "  </tbody>\n",
       "</table>\n",
       "</div>"
      ],
      "text/plain": [
       "   age  gender  chest_pain_type  blood_pressure  cholesterol  max_heart_rate  \\\n",
       "0   24     1.0                4             250          139             212   \n",
       "1   29     0.0                4             132          187             147   \n",
       "2   46     0.0                3             271          185             193   \n",
       "3   73     NaN                2             102          200             125   \n",
       "4   49     1.0                3              91          163             192   \n",
       "\n",
       "   exercise_angina  plasma_glucose  skin_thickness  insulin        bmi  \\\n",
       "0                0           108.0            33.0    109.0  37.999303   \n",
       "1                0           202.0            42.0      NaN  25.588346   \n",
       "2                0           149.0            43.0    102.0  37.892029   \n",
       "3                0           105.0            77.0    165.0  18.660241   \n",
       "4                0           162.0            31.0    170.0  12.767980   \n",
       "\n",
       "   diabetes_pedigree  hypertension  heart_disease residence_type  \\\n",
       "0           0.480277             1              1          Urban   \n",
       "1           0.283986             1              1          Urban   \n",
       "2           2.472309             1              0          Rural   \n",
       "3           1.472052             0              1          Rural   \n",
       "4           0.537627             1              1          Rural   \n",
       "\n",
       "  smoking_status  \n",
       "0         Smoker  \n",
       "1        Unknown  \n",
       "2     Non-Smoker  \n",
       "3         Smoker  \n",
       "4         Smoker  "
      ]
     },
     "execution_count": 17,
     "metadata": {},
     "output_type": "execute_result"
    }
   ],
   "source": [
    "# import dataset\n",
    "data = pd.read_csv('patient_dataset.csv')\n",
    "X = data.iloc[:, :-1].values\n",
    "Y = data.iloc[:, -1].values\n",
    "\n",
    "# menampilkan data\n",
    "data.head()"
   ]
  },
  {
   "cell_type": "code",
   "execution_count": 18,
   "metadata": {},
   "outputs": [
    {
     "name": "stdout",
     "output_type": "stream",
     "text": [
      "[[24 1.0 4 ... 1 1 'Urban']\n",
      " [29 0.0 4 ... 1 1 'Urban']\n",
      " [46 0.0 3 ... 1 0 'Rural']\n",
      " ...\n",
      " [70 0.0 2 ... 0 1 'Urban']\n",
      " [78 0.0 2 ... 1 0 'Urban']\n",
      " [28 1.0 4 ... 1 0 nan]]\n",
      "['Smoker' 'Unknown' 'Non-Smoker' ... 'Non-Smoker' 'Non-Smoker'\n",
      " 'Non-Smoker']\n"
     ]
    }
   ],
   "source": [
    "print(X)\n",
    "print(Y)"
   ]
  },
  {
   "cell_type": "code",
   "execution_count": 19,
   "metadata": {},
   "outputs": [],
   "source": [
    "# menghilangkan missing value\n",
    "from sklearn.impute import SimpleImputer\n",
    "imputer = SimpleImputer(missing_values=np.nan, strategy='mean')\n",
    "imputer.fit(X[:, 1:3])\n",
    "X[:, 1:3] = imputer.transform(X[:, 1:3])"
   ]
  },
  {
   "cell_type": "code",
   "execution_count": null,
   "metadata": {},
   "outputs": [],
   "source": []
  },
  {
   "cell_type": "code",
   "execution_count": 20,
   "metadata": {},
   "outputs": [
    {
     "name": "stdout",
     "output_type": "stream",
     "text": [
      "[[0.0 1.0 0.0 ... 37.99930321170566 0.4802774784768699 1]\n",
      " [0.0 1.0 0.0 ... 25.5883457763562 0.2839863775233223 1]\n",
      " [1.0 0.0 1.0 ... 37.892029036429335 2.4723085919346364 1]\n",
      " ...\n",
      " [0.0 1.0 0.0 ... 40.48395635352023 0.6460219716531521 0]\n",
      " [1.0 0.0 0.0 ... 24.98707108315713 0.719095457948519 1]\n",
      " [1.0 0.0 0.0 ... 11.348716298084636 1.53848861093208 1]]\n"
     ]
    }
   ],
   "source": [
    "# encoding data kategori\n",
    "from sklearn.compose import ColumnTransformer\n",
    "from sklearn.preprocessing import OneHotEncoder\n",
    "ct = ColumnTransformer(transformers=[('encoder', OneHotEncoder(), [13,14])], remainder='passthrough')\n",
    "X = np.array(ct.fit_transform(X))\n",
    "print(X)"
   ]
  },
  {
   "cell_type": "code",
   "execution_count": 21,
   "metadata": {},
   "outputs": [
    {
     "name": "stdout",
     "output_type": "stream",
     "text": [
      "[1 2 0 ... 0 0 0]\n"
     ]
    }
   ],
   "source": [
    "# encoding data kategori\n",
    "from sklearn.preprocessing import LabelEncoder\n",
    "le = LabelEncoder()\n",
    "Y = le.fit_transform(Y)\n",
    "print(Y)"
   ]
  },
  {
   "cell_type": "code",
   "execution_count": 22,
   "metadata": {},
   "outputs": [],
   "source": [
    "# membagi data training dan testing\n",
    "from sklearn.model_selection import train_test_split\n",
    "X_train, X_test, Y_train, Y_test = train_test_split(X, Y, test_size=0.2, random_state=1)\n"
   ]
  },
  {
   "cell_type": "code",
   "execution_count": 23,
   "metadata": {},
   "outputs": [
    {
     "name": "stdout",
     "output_type": "stream",
     "text": [
      "[[1.0 0.0 0.0 ... 41.72341620734944 0.2869346045592387 0]\n",
      " [0.0 1.0 0.0 ... 38.83487779167436 2.1322570406009462 1]\n",
      " [1.0 0.0 1.0 ... 30.6705688290341 0.4315113402908843 0]\n",
      " ...\n",
      " [0.0 1.0 0.0 ... 39.28075271590959 1.6818931986539174 0]\n",
      " [1.0 0.0 0.0 ... 29.385682652764057 1.9335537107603653 0]\n",
      " [1.0 0.0 0.0 ... 17.892733000321385 1.736595530504464 1]]\n"
     ]
    }
   ],
   "source": [
    "print(X_train)"
   ]
  },
  {
   "cell_type": "code",
   "execution_count": 24,
   "metadata": {},
   "outputs": [
    {
     "name": "stdout",
     "output_type": "stream",
     "text": [
      "[[0.0 1.0 0.0 ... 35.06718123392973 1.152181497640379 1]\n",
      " [1.0 0.0 0.0 ... 20.733260257033635 0.3313495450788283 0]\n",
      " [1.0 0.0 0.0 ... 32.122968422531784 2.260123383161317 1]\n",
      " ...\n",
      " [0.0 1.0 1.0 ... 12.890671523571262 1.1228504604067144 0]\n",
      " [1.0 0.0 0.0 ... 38.44860033403033 1.6970216523560455 0]\n",
      " [0.0 1.0 0.0 ... 48.65599775706332 1.1602176164871374 1]]\n"
     ]
    }
   ],
   "source": [
    "print(X_test)"
   ]
  },
  {
   "cell_type": "code",
   "execution_count": 25,
   "metadata": {},
   "outputs": [
    {
     "name": "stdout",
     "output_type": "stream",
     "text": [
      "[1 1 0 ... 0 0 1]\n"
     ]
    }
   ],
   "source": [
    "print(Y_train)"
   ]
  },
  {
   "cell_type": "code",
   "execution_count": 26,
   "metadata": {},
   "outputs": [
    {
     "name": "stdout",
     "output_type": "stream",
     "text": [
      "[1 0 1 ... 0 1 1]\n"
     ]
    }
   ],
   "source": [
    "print(Y_test)"
   ]
  },
  {
   "cell_type": "code",
   "execution_count": 27,
   "metadata": {},
   "outputs": [],
   "source": [
    "# feature scaling\n",
    "from sklearn.preprocessing import StandardScaler\n",
    "sc = StandardScaler()\n",
    "X_train[:, 15:] = sc.fit_transform(X_train[:, 15:])\n",
    "X_test[:, 15:] = sc.transform(X_test[:, 15:])"
   ]
  },
  {
   "cell_type": "code",
   "execution_count": 28,
   "metadata": {},
   "outputs": [
    {
     "name": "stdout",
     "output_type": "stream",
     "text": [
      "[[1.0 0.0 0.0 ... 1.0154662327205857 -1.4571523464869758\n",
      "  -1.0008336808451122]\n",
      " [0.0 1.0 0.0 ... 0.7666264689773674 1.2227694178843196\n",
      "  0.9991670135997417]\n",
      " [1.0 0.0 1.0 ... 0.06329335685213532 -1.247186687834876\n",
      "  -1.0008336808451122]\n",
      " ...\n",
      " [0.0 1.0 0.0 ... 0.8050373864862456 0.5687157748209142\n",
      "  -1.0008336808451122]\n",
      " [1.0 0.0 0.0 ... -0.04739610838221925 0.9341968801574844\n",
      "  -1.0008336808451122]\n",
      " [1.0 0.0 0.0 ... -1.037482603582301 0.6481587853348922\n",
      "  0.9991670135997417]]\n"
     ]
    }
   ],
   "source": [
    "print(X_train)"
   ]
  },
  {
   "cell_type": "code",
   "execution_count": 29,
   "metadata": {},
   "outputs": [
    {
     "name": "stdout",
     "output_type": "stream",
     "text": [
      "[[0.0 1.0 0.0 ... 0.44204961163057166 -0.2005730435784285\n",
      "  0.9991670135997417]\n",
      " [1.0 0.0 0.0 ... -0.7927788711926961 -1.3926494913561263\n",
      "  -1.0008336808451122]\n",
      " [1.0 0.0 0.0 ... 0.18841364943520758 1.408466934841377\n",
      "  0.9991670135997417]\n",
      " ...\n",
      " [0.0 1.0 1.0 ... -1.4683966566372793 -0.243169873009871\n",
      "  -1.0008336808451122]\n",
      " [1.0 0.0 0.0 ... 0.7333497118541611 0.5906865001238499\n",
      "  -1.0008336808451122]\n",
      " [0.0 1.0 0.0 ... 1.6126893631452583 -0.18890236241297426\n",
      "  0.9991670135997417]]\n"
     ]
    }
   ],
   "source": [
    "print(X_test)"
   ]
  }
 ],
 "metadata": {
  "kernelspec": {
   "display_name": "Python 3",
   "language": "python",
   "name": "python3"
  },
  "language_info": {
   "codemirror_mode": {
    "name": "ipython",
    "version": 3
   },
   "file_extension": ".py",
   "mimetype": "text/x-python",
   "name": "python",
   "nbconvert_exporter": "python",
   "pygments_lexer": "ipython3",
   "version": "3.11.0"
  }
 },
 "nbformat": 4,
 "nbformat_minor": 2
}
